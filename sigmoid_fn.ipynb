{
  "nbformat": 4,
  "nbformat_minor": 0,
  "metadata": {
    "colab": {
      "provenance": [],
      "authorship_tag": "ABX9TyOFtB4R8xBFFqqqbSgX9Ksc",
      "include_colab_link": true
    },
    "kernelspec": {
      "name": "python3",
      "display_name": "Python 3"
    },
    "language_info": {
      "name": "python"
    }
  },
  "cells": [
    {
      "cell_type": "markdown",
      "metadata": {
        "id": "view-in-github",
        "colab_type": "text"
      },
      "source": [
        "<a href=\"https://colab.research.google.com/github/JEEVAGANN/AI/blob/main/sigmoid_fn.ipynb\" target=\"_parent\"><img src=\"https://colab.research.google.com/assets/colab-badge.svg\" alt=\"Open In Colab\"/></a>"
      ]
    },
    {
      "cell_type": "code",
      "execution_count": 10,
      "metadata": {
        "colab": {
          "base_uri": "https://localhost:8080/"
        },
        "id": "yh4iY0s8cKmp",
        "outputId": "a937ea8d-9edc-4488-eecb-313f716302dd"
      },
      "outputs": [
        {
          "output_type": "stream",
          "name": "stdout",
          "text": [
            "Accuracy: 0.9666666666666667\n"
          ]
        }
      ],
      "source": [
        "import numpy as np\n",
        "from sklearn.datasets import load_iris\n",
        "from sklearn.model_selection import train_test_split\n",
        "from sklearn.preprocessing import StandardScaler\n",
        "from sklearn.metrics import accuracy_score\n",
        "\n",
        "# Load the Iris dataset\n",
        "iris = load_iris()\n",
        "X, y = iris.data, iris.target\n",
        "\n",
        "# One-hot encode the labels\n",
        "num_classes = len(np.unique(y))\n",
        "y_one_hot = np.eye(num_classes)[y]\n",
        "\n",
        "# Split the data into training and testing sets\n",
        "X_train, X_test, y_train, y_test = train_test_split(X, y_one_hot, test_size=0.2, random_state=42)\n",
        "\n",
        "# Standardize the features\n",
        "scaler = StandardScaler()\n",
        "X_train = scaler.fit_transform(X_train)\n",
        "X_test = scaler.transform(X_test)\n",
        "\n",
        "# Neural Network Implementation\n",
        "class NeuralNetwork:\n",
        "    def __init__(self, input_size, hidden_size, output_size):\n",
        "        self.weights_input_hidden = np.random.rand(input_size, hidden_size)\n",
        "        self.biases_hidden = np.zeros((1, hidden_size))\n",
        "        self.weights_hidden_output = np.random.rand(hidden_size, output_size)\n",
        "        self.biases_output = np.zeros((1, output_size))\n",
        "\n",
        "    def sigmoid(self, x):\n",
        "        return 1 / (1 + np.exp(-x))\n",
        "\n",
        "    def sigmoid_derivative(self, x):\n",
        "        return x * (1 - x)\n",
        "\n",
        "    def train(self, X, y, epochs=10000, learning_rate=0.1):\n",
        "        for epoch in range(epochs):\n",
        "            # Forward propagation\n",
        "            hidden_layer_input = np.dot(X, self.weights_input_hidden) + self.biases_hidden\n",
        "            hidden_layer_output = self.sigmoid(hidden_layer_input)\n",
        "\n",
        "            output_layer_input = np.dot(hidden_layer_output, self.weights_hidden_output) + self.biases_output\n",
        "            predicted_output = self.sigmoid(output_layer_input)\n",
        "\n",
        "            # Calculate error\n",
        "            error = y - predicted_output\n",
        "\n",
        "            # Backpropagation\n",
        "            output_delta = error * self.sigmoid_derivative(predicted_output)\n",
        "            hidden_error = output_delta.dot(self.weights_hidden_output.T)\n",
        "            hidden_delta = hidden_error * self.sigmoid_derivative(hidden_layer_output)\n",
        "\n",
        "            # Update weights and biases\n",
        "            self.weights_hidden_output += hidden_layer_output.T.dot(output_delta) * learning_rate\n",
        "            self.biases_output += np.sum(output_delta, axis=0, keepdims=True) * learning_rate\n",
        "            self.weights_input_hidden += X.T.dot(hidden_delta) * learning_rate\n",
        "            self.biases_hidden += np.sum(hidden_delta, axis=0, keepdims=True) * learning_rate\n",
        "\n",
        "    def predict(self, X):\n",
        "        hidden_layer_input = np.dot(X, self.weights_input_hidden) + self.biases_hidden\n",
        "        hidden_layer_output = self.sigmoid(hidden_layer_input)\n",
        "\n",
        "        output_layer_input = np.dot(hidden_layer_output, self.weights_hidden_output) + self.biases_output\n",
        "        predicted_output = self.sigmoid(output_layer_input)\n",
        "\n",
        "        return predicted_output\n",
        "\n",
        "# Create and train the neural network\n",
        "input_size = X_train.shape[1]\n",
        "hidden_size = 8\n",
        "output_size = num_classes\n",
        "\n",
        "nn = NeuralNetwork(input_size, hidden_size, output_size)\n",
        "nn.train(X_train, y_train, epochs=5000, learning_rate=0.1)\n",
        "\n",
        "# Make predictions\n",
        "y_pred = nn.predict(X_test)\n",
        "\n",
        "# Convert one-hot encoded predictions to class labels\n",
        "predicted_labels = np.argmax(y_pred, axis=1)\n",
        "true_labels = np.argmax(y_test, axis=1)\n",
        "\n",
        "# Calculate accuracy\n",
        "accuracy = accuracy_score(true_labels, predicted_labels)\n",
        "print(f\"Accuracy: {accuracy}\")\n"
      ]
    }
  ]
}