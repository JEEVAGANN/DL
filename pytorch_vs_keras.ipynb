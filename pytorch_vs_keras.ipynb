{
  "nbformat": 4,
  "nbformat_minor": 0,
  "metadata": {
    "colab": {
      "provenance": [],
      "authorship_tag": "ABX9TyPu4f6cr5G0tCfRaQXGIxVI",
      "include_colab_link": true
    },
    "kernelspec": {
      "name": "python3",
      "display_name": "Python 3"
    },
    "language_info": {
      "name": "python"
    }
  },
  "cells": [
    {
      "cell_type": "markdown",
      "metadata": {
        "id": "view-in-github",
        "colab_type": "text"
      },
      "source": [
        "<a href=\"https://colab.research.google.com/github/JEEVAGANN/AI/blob/main/pytorch_vs_keras.ipynb\" target=\"_parent\"><img src=\"https://colab.research.google.com/assets/colab-badge.svg\" alt=\"Open In Colab\"/></a>"
      ]
    },
    {
      "cell_type": "code",
      "execution_count": 9,
      "metadata": {
        "id": "VoQUDMl90c9E"
      },
      "outputs": [],
      "source": [
        "import torch\n",
        "import torch.nn as nn\n",
        "import torch.optim as optim\n",
        "import torchvision.transforms as transforms\n",
        "from torchvision.datasets import MNIST\n",
        "import tensorflow as tf\n",
        "from torch.utils.data import DataLoader\n",
        "from tensorflow.keras import layers,models\n",
        "from tensorflow.keras.datasets import mnist\n",
        "from tensorflow.keras.utils import to_categorical"
      ]
    },
    {
      "cell_type": "code",
      "source": [
        "# Load and preprocess the MNIST dataset using PyTorch\n",
        "transform = transforms.Compose([transforms.ToTensor(), transforms.Normalize((0.5,), (0.5,))])\n",
        "train_dataset = MNIST(root='./data', train=True, download=True, transform=transform)\n",
        "test_dataset = MNIST(root='./data', train=False, download=True, transform=transform)"
      ],
      "metadata": {
        "id": "zlZbM3Li1iiv"
      },
      "execution_count": 10,
      "outputs": []
    },
    {
      "cell_type": "code",
      "source": [
        "train_loader = DataLoader(dataset=train_dataset, batch_size=64, shuffle=True)\n",
        "test_loader = DataLoader(dataset=test_dataset, batch_size=64, shuffle=False)"
      ],
      "metadata": {
        "id": "e804DfBr2QOO"
      },
      "execution_count": 11,
      "outputs": []
    },
    {
      "cell_type": "code",
      "source": [
        "(train_images, train_labels), (test_images, test_labels) = mnist.load_data()"
      ],
      "metadata": {
        "id": "9xvrczfG2gpx"
      },
      "execution_count": 12,
      "outputs": []
    },
    {
      "cell_type": "code",
      "source": [
        "train_labels = to_categorical(train_labels)\n",
        "test_labels = to_categorical(test_labels)"
      ],
      "metadata": {
        "id": "YOLNWEjM27dc"
      },
      "execution_count": 13,
      "outputs": []
    },
    {
      "cell_type": "code",
      "source": [
        "# Define the neural network using PyTorch\n",
        "class Net(nn.Module):\n",
        "    def __init__(self):\n",
        "        super(Net, self).__init__()\n",
        "        self.flatten = nn.Flatten()\n",
        "        self.fc1 = nn.Linear(28 * 28, 128)\n",
        "        self.relu = nn.ReLU()\n",
        "        self.fc2 = nn.Linear(128, 10)\n",
        "        self.softmax = nn.Softmax(dim=1)\n",
        "\n",
        "    def forward(self, x):\n",
        "        x = self.flatten(x)\n",
        "        x = self.fc1(x)\n",
        "        x = self.relu(x)\n",
        "        x = self.fc2(x)\n",
        "        x = self.softmax(x)\n",
        "        return x\n"
      ],
      "metadata": {
        "id": "O20YAELB28gb"
      },
      "execution_count": 14,
      "outputs": []
    },
    {
      "cell_type": "code",
      "source": [
        "model_pt = Net()\n",
        "criterion = nn.CrossEntropyLoss()\n",
        "optimizer_pt = optim.Adam(model_pt.parameters(), lr=0.001)"
      ],
      "metadata": {
        "id": "FF5KC9Xl2_yd"
      },
      "execution_count": 15,
      "outputs": []
    },
    {
      "cell_type": "code",
      "source": [
        "import time\n",
        "start_time_tf = time.time()\n",
        "model_tf = models.Sequential()\n",
        "model_tf.add(layers.Flatten(input_shape=(28, 28, 1)))\n",
        "model_tf.add(layers.Dense(128, activation='relu'))\n",
        "model_tf.add(layers.Dense(10, activation='softmax'))"
      ],
      "metadata": {
        "id": "LWiGAZkS3cCI"
      },
      "execution_count": 16,
      "outputs": []
    },
    {
      "cell_type": "code",
      "source": [
        "model_tf.compile(optimizer='adam',\n",
        "                 loss='categorical_crossentropy',\n",
        "                 metrics=['accuracy'])"
      ],
      "metadata": {
        "id": "inNhsm3Z3gdX"
      },
      "execution_count": 17,
      "outputs": []
    },
    {
      "cell_type": "code",
      "source": [
        "model_tf.fit(train_images, train_labels, epochs=5, batch_size=64, validation_split=0.2)\n",
        "end_time_tf = time.time()"
      ],
      "metadata": {
        "id": "eTg6Ih8i3nFB",
        "outputId": "65d795c3-7a08-4308-a004-d99b74ccbafc",
        "colab": {
          "base_uri": "https://localhost:8080/"
        }
      },
      "execution_count": 18,
      "outputs": [
        {
          "output_type": "stream",
          "name": "stdout",
          "text": [
            "Epoch 1/5\n",
            "750/750 [==============================] - 5s 5ms/step - loss: 4.2688 - accuracy: 0.8610 - val_loss: 0.8065 - val_accuracy: 0.8894\n",
            "Epoch 2/5\n",
            "750/750 [==============================] - 5s 6ms/step - loss: 0.5284 - accuracy: 0.9001 - val_loss: 0.4576 - val_accuracy: 0.9135\n",
            "Epoch 3/5\n",
            "750/750 [==============================] - 3s 5ms/step - loss: 0.3177 - accuracy: 0.9262 - val_loss: 0.4355 - val_accuracy: 0.9199\n",
            "Epoch 4/5\n",
            "750/750 [==============================] - 3s 5ms/step - loss: 0.2627 - accuracy: 0.9361 - val_loss: 0.4282 - val_accuracy: 0.9302\n",
            "Epoch 5/5\n",
            "750/750 [==============================] - 4s 6ms/step - loss: 0.2308 - accuracy: 0.9412 - val_loss: 0.3511 - val_accuracy: 0.9410\n"
          ]
        }
      ]
    },
    {
      "cell_type": "code",
      "source": [
        "print(f\"TensorFlow Training Time: {end_time_tf - start_time_tf} seconds\")"
      ],
      "metadata": {
        "id": "dsMg11nG3rtk",
        "outputId": "9bed2e39-ee86-4df0-cfca-a3c209a3bdbe",
        "colab": {
          "base_uri": "https://localhost:8080/"
        }
      },
      "execution_count": 19,
      "outputs": [
        {
          "output_type": "stream",
          "name": "stdout",
          "text": [
            "TensorFlow Training Time: 72.85971593856812 seconds\n"
          ]
        }
      ]
    },
    {
      "cell_type": "code",
      "source": [
        "start_time_pt = time.time()\n",
        "for epoch in range(5):\n",
        "    for images, labels in train_loader:\n",
        "        optimizer_pt.zero_grad()\n",
        "        outputs = model_pt(images.view(-1, 28 * 28))\n",
        "        loss = criterion(outputs, labels)\n",
        "        loss.backward()\n",
        "        optimizer_pt.step()\n",
        "end_time_pt = time.time()\n",
        "print(f\"PyTorch Training Time: {end_time_pt - start_time_pt} seconds\")"
      ],
      "metadata": {
        "id": "Cx8zh2aF38ZU",
        "outputId": "de2632c2-ffd6-4812-e449-aa769c2e6243",
        "colab": {
          "base_uri": "https://localhost:8080/"
        }
      },
      "execution_count": 20,
      "outputs": [
        {
          "output_type": "stream",
          "name": "stdout",
          "text": [
            "PyTorch Training Time: 94.06459856033325 seconds\n"
          ]
        }
      ]
    },
    {
      "cell_type": "code",
      "source": [
        "# Evaluation using TensorFlow\n",
        "test_loss_tf, test_acc_tf = model_tf.evaluate(test_images, test_labels)\n",
        "print(f\"TensorFlow Test Accuracy: {test_acc_tf}\")"
      ],
      "metadata": {
        "id": "HAGRKnxX4FeE",
        "outputId": "1db9a8d8-06ec-4892-bc33-85fe6acd0c8c",
        "colab": {
          "base_uri": "https://localhost:8080/"
        }
      },
      "execution_count": 21,
      "outputs": [
        {
          "output_type": "stream",
          "name": "stdout",
          "text": [
            "313/313 [==============================] - 1s 2ms/step - loss: 0.3614 - accuracy: 0.9392\n",
            "TensorFlow Test Accuracy: 0.9391999840736389\n"
          ]
        }
      ]
    },
    {
      "cell_type": "code",
      "source": [
        "# Evaluation using PyTorch\n",
        "correct = 0\n",
        "total = 0\n",
        "with torch.no_grad():\n",
        "    for images, labels in test_loader:\n",
        "        outputs = model_pt(images.view(-1, 28 * 28))\n",
        "        _, predicted = torch.max(outputs.data, 1)\n",
        "        total += labels.size(0)\n",
        "        correct += (predicted == labels).sum().item()\n",
        "\n",
        "accuracy_pt = correct / total\n",
        "print(f\"PyTorch Test Accuracy: {accuracy_pt}\")"
      ],
      "metadata": {
        "id": "fNGWTBQe4O2b",
        "outputId": "b7476023-37b5-4d8f-d615-1d7354b85187",
        "colab": {
          "base_uri": "https://localhost:8080/"
        }
      },
      "execution_count": 22,
      "outputs": [
        {
          "output_type": "stream",
          "name": "stdout",
          "text": [
            "PyTorch Test Accuracy: 0.9544\n"
          ]
        }
      ]
    }
  ]
}